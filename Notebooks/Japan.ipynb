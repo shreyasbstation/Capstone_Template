{
 "cells": [
  {
   "cell_type": "markdown",
   "id": "49a68a14",
   "metadata": {},
   "source": [
    "# Japan Real Estate Price Predictions."
   ]
  },
  {
   "cell_type": "markdown",
   "id": "0f7ebe4a",
   "metadata": {},
   "source": [
    "**This notebook contains the intital steps taken to join the datasets of Japan Real Estate data.Then initial analysis has been done on it and the entire dataset has been divided based on their Realestate type.**\n",
    "\n",
    "**Author: Aditi Namboodiripad**\n",
    "\n",
    "**Date: 19/9/2023**"
   ]
  },
  {
   "cell_type": "markdown",
   "id": "8005eac6",
   "metadata": {},
   "source": [
    "## Table Of Contents\n",
    "\n",
    "1.[Data Dictionary](#Data-Dictionary) <br>\n",
    "2.[Abbreviations of FloorPlan:](#Abbreviations-of-FloorPlan)<br>\n",
    "3.[Initial analysis, Data merging and splitting](#Initial-analysis,-Data-merging-and-splitting)<br>\n"
   ]
  },
  {
   "cell_type": "markdown",
   "id": "8407db0b",
   "metadata": {},
   "source": [
    "## Data Dictionary\n",
    "--------------------------------\n",
    "\n",
    "**'No'**\n",
    "\n",
    "**'Type'** - Real Estate Type\n",
    "-\tResidential Land(Land Only) , Agricultural Land , Residential Land(Land and Building) , Pre-owned Condominiums, etc. , Forest Land\n",
    "\n",
    "**'Region'** - The characteristics of surrounding areas\n",
    "-\tResidential Area, Potential Residential Area, Commercial Area, Industrial Area\n",
    "\n",
    "**'MunicipalityCode'** - City code of japan\n",
    "\n",
    "**'Prefecture'** - Prefecture Name of japan\n",
    "\n",
    "**'Municipality'** - City\n",
    "\n",
    "**'DistrictName'**- District name\n",
    "\n",
    "**'NearestStation'**- Nearest station name\n",
    "\n",
    "**'TimeToNearestStation'** - Time to the nearest station (original). The original data contains non-numeric values(ex. 1H-1H30, 30-60minuts). It is difficult to use for data analysis, I added min/max time to nearrest station columns.\n",
    "\n",
    "**'MinTimeToNearestStation'** - Min time to the nearest station (minutes)\n",
    "\n",
    "**'MaxTimeToNearestStation'** - Max time to the nearest station (minutes)\n",
    "\n",
    "**'TradePrice'** - Trade prices (Yen)\n",
    "\n",
    "**'FloorPlan'** - floor plan \n",
    "- \t3LDK' '4DK' '2LDK' '4LDK' '2DK' '1K' '3LDK+S' '5LDK' '3DK' '1LDK' '2DK+S' 'Open Floor' '1DK' '1R' '4LDK+S' '2K' '2LDK+S' '6DK' '1LDK+S' '5DK' '1R+S' '1LK' '1K+S' '3K' '7LDK' '4K' '3DK+S' '3D' '1DK+S' '6LDK' 'Studio Apartment' '6LDK+S' '4L+K' '5LDK+S' '7DK' '3LK' '5K' '2K+S' '8LDK' '3LDK+K' '3LD' '1L' '4DK+S' '2LK' 'Duplex' '7LDK+S' '4LDK+K' '3LD+S' '2LD+S' '8LDK+S' '4L' '2L' '2LDK+K' '2LK+S' '5LDK+K' '1LD+S' '2L+S' '3K+S' '1DK+K' '2LD' '1L+S' '2D' '4D'\n",
    "\n",
    "**'Area'** - The surveyed area (m^2)\n",
    "\n",
    "**'AreaIsGreaterFlag'** - An area of 2000 m^2 or greater, the area data are displayed 2000, and this flag is true.\n",
    "\n",
    "**'UnitPrice'** - Unit Land Price(Yen) per m^2\n",
    "\n",
    "**'PricePerTsubo'** - Unit Land Price(Yen) per Tsubo. Tsubo is a japanese units\n",
    "\n",
    "**'LandShape'** - land shape\n",
    "- Semi-rectangular Shaped' 'Semi-trapezoidal Shaped' 'Irregular Shaped' 'Trapezoidal Shaped' 'Rectangular Shaped' 'Semi-shaped' 'Semi-square Shaped' 'Square Shaped' 'Flag-shaped etc.'\n",
    "\n",
    "**'Frontage'** - Frontage(m).\n",
    "\n",
    "**'FrontageIsGreaterFlag'**- Some original Frontage data records \"50.0m or longer.\" I converted Frontage to a number and added this flag.\n",
    "\n",
    "**'TotalFloorArea'** - Total Floor Area (m^2).\t\n",
    "\n",
    "**'TotalFloorAreaIsGreaterFlag'** - Some data are displayed as \"2,000 m^2 or greater”, I converted Total Floor Area to a number and added this flag.\n",
    "\n",
    "**'BuildingYear'** - Construction Year of Building\n",
    "\n",
    "**'PrewarBuilding'** - Buildings built before 1945, the construction year data are displayed as “before the war.” I converted BuildYear to 1945, and added this flag.\n",
    "\n",
    "**'Structure'** - Building Structure. SRC= Steel frame reinforced concrete, RC= Reinforced concrete, S = Steel frame, LS = Light steel structure, B = Concrete block, W = Wooden \n",
    "- RC' 'W' 'SRC' 'S' 'LS' 'S, W, LS' 'B' 'W, LS' 'RC, W' 'S, W' 'RC, S' 'W, B' 'RC, LS' 'RC, W, LS' 'RC, W, B' 'RC, S, LS' 'SRC, W' 'S, B' 'SRC, RC' 'S, LS' 'S, W, B' 'B, LS' 'RC, B' 'SRC, S' 'RC, S, W' 'SRC, B' 'W, B, LS' 'S, B, LS' 'RC, B, LS' 'RC, S, B' 'SRC, RC, S' 'SRC, LS' 'SRC, W, B' 'S, RC, W' 'RC, S, W, B'\n",
    "\n",
    "**'Use'** - Current Usage. For example, House, office, shop, factory, warehouse, workshop, parking lot, and other\n",
    "\n",
    "**'Purpose'** - The purpose of future use. For example, House, shop, office, factory, warehouse, and other.--->Other' 'House' 'Warehouse' 'Office' 'Factory' 'Shop'\n",
    "\n",
    "**'Direction'** - Frontage road Direction \n",
    "- Southwest' 'Northwest' 'East' 'No facing road' 'Northeast' 'Southeast' 'South' 'West' 'North'\n",
    "\n",
    "**'Classification'** - Frontage road Classification \n",
    "- Road' 'City Road' 'Prefectural Road' nan 'Village Road' 'Private Road' 'National Highway' 'Access Road' 'Agricultural Road' 'Ward Road' 'Town Road' 'Kyoto/ Osaka Prefectural Road' 'Forest Road' 'Hokkaido Prefectural Road' 'Tokyo Metropolitan Road'\n",
    "\n",
    "**'Breadth'** - Frontage road Breadth(m)\n",
    "\n",
    "**'CityPlanning'** - The use districts designated by the City Planning Act \n",
    "- Category I Exclusively Low-story Residential Zone' 'Urbanization Control Area' nan 'Category I Residential Zone' 'Category I Exclusively Medium-high Residential Zone' 'Category II Exclusively Medium-high Residential Zone' 'Quasi-industrial Zone' 'Neighborhood Commercial Zone' 'Commercial Zone' 'Category II Residential Zone' 'Exclusively Industrial Zone' 'Industrial Zone' 'Category II Exclusively Low-story Residential Zone' 'Outside City Planning Area' 'Quasi-residential Zone' 'Non-divided City Planning Area' 'Quasi-city Planning Area'\n",
    "\n",
    "**'CoverageRatio'** - Maximus Building Coverage Ratio(%)\n",
    "\n",
    "**'FloorAreaRatio'** - Maximus Floor-area Ratio(%)\n",
    "\n",
    "**'Period'** - Time of transaction\n",
    "\n",
    "**'Year'** - Time of transaction year\n",
    "\n",
    "**'Quarter'** - Time of transaction year-quarter\n",
    "\n",
    "**'Renovation'** - Renovation? \n",
    "- 'Not yet', 'Done'\n",
    "\n",
    "**'Remarks'** - Note\n",
    "\n",
    "\n",
    "## The names of columns have been  changed for ease of use like so:\n",
    "'No' - No\n",
    "\n",
    "'Type' - Real Estate Type\n",
    "\n",
    "'Region' - Surrounding Area\n",
    "\n",
    "'MunicipalityCode' - City Code\n",
    "\n",
    "'Prefecture' - Prefecture Name\n",
    "\n",
    "'Municipality' - City Name\n",
    "\n",
    "'DistrictName' - District Name\n",
    "\n",
    "'NearestStation' - Nearest Station\n",
    "\n",
    "'TimeToNearestStation' - Time to Nearest Station (Original)\n",
    "\n",
    "'MinTimeToNearestStation' - Minimum Time to Nearest Station\n",
    "\n",
    "'MaxTimeToNearestStation' - Maximum Time to Nearest Station\n",
    "\n",
    "'TradePrice' - Trade Price (Yen)\n",
    "\n",
    "'FloorPlan' - Floor Plan\n",
    "\n",
    "'Area' - Surveyed Area (m^2)\n",
    "\n",
    "'AreaIsGreaterFlag' - Area Is Greater Flag\n",
    "\n",
    "'UnitPrice' - Unit Land Price (Yen) per m^2\n",
    "\n",
    "'PricePerTsubo' - Unit Land Price (Yen) per Tsubo\n",
    "\n",
    "'LandShape' - Land Shape\n",
    "\n",
    "'Frontage' - Frontage (m)\n",
    "\n",
    "'FrontageIsGreaterFlag' - Frontage Is Greater Flag\n",
    "\n",
    "'TotalFloorArea' - Total Floor Area (m^2)\n",
    "\n",
    "'TotalFloorAreaIsGreaterFlag' - Total Floor Area Is Greater Flag\n",
    "\n",
    "'BuildingYear' - Construction Year\n",
    "\n",
    "'PrewarBuilding' - Prewar Building Flag\n",
    "\n",
    "'Structure' - Building Structure\n",
    "\n",
    "'Use' - Current Usage\n",
    "\n",
    "'Purpose' - Future Use Purpose\n",
    "\n",
    "'Direction' - Frontage Road Direction\n",
    "\n",
    "'Classification' - Frontage Road Classification\n",
    "\n",
    "'Breadth' - Frontage Road Breadth (m)\n",
    "\n",
    "'CityPlanning' - City Planning Category\n",
    "\n",
    "'CoverageRatio' - Maximum Building Coverage Ratio (%)\n",
    "\n",
    "'FloorAreaRatio' - Maximum Floor Area Ratio (%)\n",
    "\n",
    "'Period' - Transaction Period\n",
    "\n",
    "'Year' - Transaction Year\n",
    "\n",
    "'Quarter' - Transaction Year Quarter\n",
    "\n",
    "'Renovation' - Renovation Status\n",
    "\n",
    "'Remarks' - Notes"
   ]
  },
  {
   "cell_type": "markdown",
   "id": "d06dfaba",
   "metadata": {},
   "source": [
    "## Abbreviations of FloorPlan\n",
    "\n",
    "\n",
    "3LDK: 3 Bedrooms, Living Room, Dining Room, Kitchen\n",
    "\n",
    "4DK: 4 Rooms (which can be used as bedrooms, living rooms, etc.), Dining Room, Kitchen\n",
    "\n",
    "2LDK: 2 Bedrooms, Living Room, Dining Room, Kitchen\n",
    "\n",
    "4LDK: 4 Bedrooms, Living Room, Dining Room, Kitchen\n",
    "\n",
    "2DK: 2 Rooms (often used as bedrooms), Dining Room, Kitchen\n",
    "\n",
    "1K: 1 Room (often used as a bedroom), Kitchen\n",
    "\n",
    "3LDK+S: 3 Bedrooms, Living Room, Dining Room, Kitchen, and a Separate Space (S)\n",
    "\n",
    "5LDK: 5 Bedrooms, Living Room, Dining Room, Kitchen\n",
    "\n",
    "3DK: 3 Rooms, Dining Room, Kitchen\n",
    "\n",
    "1LDK: 1 Bedroom, Living Room, Dining Room, Kitchen\n",
    "\n",
    "2DK+S: 2 Rooms, Dining Room, Kitchen, and a Separate Space (S)\n",
    "\n",
    "Open Floor: An open layout without specific room divisions\n",
    "\n",
    "1DK: 1 Room (often used as a bedroom), Dining Room, Kitchen\n",
    "\n",
    "1R: 1 Room (often used as a single-room apartment)\n",
    "\n",
    "4LDK+S: 4 Bedrooms, Living Room, Dining Room, Kitchen, and a Separate Space (S)\n",
    "\n",
    "2K: 2 Rooms (often used as bedrooms), Kitchen\n",
    "\n",
    "2LDK+S: 2 Bedrooms, Living Room, Dining Room, Kitchen, and a Separate Space (S)\n",
    "\n",
    "6DK: 6 Rooms (often used as bedrooms), Dining Room, Kitchen\n",
    "\n",
    "1LDK+S: 1 Bedroom, Living Room, Dining Room, Kitchen, and a Separate Space (S)\n",
    "\n",
    "5DK: 5 Rooms (often used as bedrooms), Dining Room, Kitchen\n",
    "\n",
    "1R+S: 1 Room (often used as a single-room apartment) with a Separate Space (S)\n",
    "\n",
    "1LK: 1 Room (often used as a bedroom), Living Room, Kitchen\n",
    "\n",
    "1K+S: 1 Room (often used as a bedroom), Kitchen, and a Separate Space (S)\n",
    "\n",
    "3K: 3 Rooms (often used as bedrooms), Kitchen\n",
    "\n",
    "7LDK: 7 Bedrooms, Living Room, Dining Room, Kitchen\n",
    "\n",
    "4K: 4 Rooms (often used as bedrooms), Kitchen\n",
    "\n",
    "3DK+S: 3 Rooms, Dining Room, Kitchen, and a Separate Space (S)\n",
    "\n",
    "3D: 3 Rooms (often used as bedrooms)\n",
    "\n",
    "1DK+S: 1 Room (often used as a bedroom), Dining Room, Kitchen, and a Separate Space (S)\n",
    "\n",
    "6LDK: 6 Bedrooms, Living Room, Dining Room, Kitchen\n",
    "\n",
    "Studio Apartment: A single-room apartment with a kitchenette and bathroom\n",
    "\n",
    "6LDK+S: 6 Bedrooms, Living Room, Dining Room, Kitchen, and a Separate Space (S)\n",
    "\n",
    "4L+K: 4 Rooms (often used as bedrooms), Living Room, Kitchen\n",
    "\n",
    "5LDK+S: 5 Bedrooms, Living Room, Dining Room, Kitchen, and a Separate Space (S)\n",
    "\n",
    "7DK: 7 Rooms, Dining Room, Kitchen\n",
    "\n",
    "3LK: 3 Rooms (often used as bedrooms), Living Room, Kitchen\n",
    "\n",
    "5K: 5 Rooms (often used as bedrooms), Kitchen\n",
    "\n",
    "2K+S: 2 Rooms (often used as bedrooms), Kitchen, and a Separate Space (S)\n",
    "\n",
    "8LDK: 8 Bedrooms, Living Room, Dining Room, Kitchen\n",
    "\n",
    "3LDK+K: 3 Bedrooms, Living Room, Dining Room, Kitchen, and an Additional Room (K)\n",
    "\n",
    "3LD: 3 Bedrooms, Living Room, Dining Room\n",
    "\n",
    "1L: 1 Living Room\n",
    "\n",
    "4DK+S: 4 Rooms, Dining Room, Kitchen, and a Separate Space (S)\n",
    "\n",
    "2LK: 2 Rooms (often used as bedrooms), Living Room, Kitchen\n",
    "\n",
    "Duplex: A multi-story apartment with connected living spaces\n",
    "\n",
    "7LDK+S: 7 Bedrooms, Living Room, Dining Room, Kitchen, and a Separate Space (S)\n",
    "\n",
    "4LDK+K: 4 Bedrooms, Living Room, Dining Room, Kitchen, and an Additional Room (K)\n",
    "\n",
    "3LD+S: 3 Bedrooms, Living Room, and a Separate Space (S)\n",
    "\n",
    "2LD+S: 2 Bedrooms, Living Room, and a Separate Space (S)\n",
    "\n",
    "8LDK+S: 8 Bedrooms, Living Room, Dining Room, Kitchen, and a Separate Space (S)\n",
    "\n",
    "4L: 4 Rooms (often used as bedrooms)\n",
    "\n",
    "2L: 2 Living Rooms\n",
    "2LDK+K: 2 Bedrooms, Living Room, Dining Room, Kitchen, and an Additional Room (K)\n",
    "\n",
    "2LK+S: 2 Rooms (often used as bedrooms), Living Room, Kitchen, and a Separate Space (S)\n",
    "\n",
    "5LDK+K: 5 Bedrooms, Living Room, Dining Room, Kitchen, and an Additional Room (K)\n",
    "\n",
    "1LD+S: 1 Bedroom, Living Room, and a Separate Space (S)\n",
    "\n",
    "2L+S: 2 Living Rooms and a Separate Space (S)\n",
    "\n",
    "\n",
    "\n"
   ]
  },
  {
   "cell_type": "markdown",
   "id": "e15edaa4",
   "metadata": {},
   "source": [
    "-----------------------"
   ]
  },
  {
   "cell_type": "markdown",
   "id": "1e8dc9c6",
   "metadata": {},
   "source": [
    "# Initial analysis, Data merging and splitting"
   ]
  },
  {
   "cell_type": "markdown",
   "id": "b5d7522c",
   "metadata": {},
   "source": [
    "Importing all the required libraries"
   ]
  },
  {
   "cell_type": "code",
   "execution_count": 1,
   "id": "987a2e46",
   "metadata": {},
   "outputs": [],
   "source": [
    "import pandas as pd\n",
    "import glob\n",
    "import matplotlib.pyplot as plt\n",
    "import seaborn as sns\n",
    "import geopandas as gpd"
   ]
  },
  {
   "cell_type": "markdown",
   "id": "4c7913a7",
   "metadata": {},
   "source": [
    "Code to combine all the datasets to a single csv named Japan_dataset"
   ]
  },
  {
   "cell_type": "code",
   "execution_count": null,
   "id": "4506d7c5",
   "metadata": {},
   "outputs": [],
   "source": [
    "csv_files = glob.glob('*[0-9].*') \n",
    "# Initialize an empty list to store DataFrames\n",
    "dataframes = []\n",
    "# Read each CSV file and store its content in a DataFrame\n",
    "for csv_file in csv_files:\n",
    "    df = pd.read_csv(csv_file)\n",
    "    dataframes.append(df)\n",
    "\n",
    "concatenated_df = pd.concat(dataframes, ignore_index=True)\n",
    "\n",
    "# Write the concatenated DataFrame to a new CSV file\n",
    "concatenated_df.to_csv('Japan_dataset.csv', index=False)\n"
   ]
  },
  {
   "cell_type": "markdown",
   "id": "9125ff6d",
   "metadata": {},
   "source": [
    "Renaming the column names for better understanding"
   ]
  },
  {
   "cell_type": "code",
   "execution_count": null,
   "id": "88b58143",
   "metadata": {},
   "outputs": [],
   "source": [
    "df=pd.read_csv(\"Japan_dataset.csv\")\n",
    "new_column_names = {\n",
    "    'Type': 'RealEstateType',\n",
    "    'Region': 'SurroundingArea',\n",
    "    'MunicipalityCode': 'CityCode',\n",
    "    'Prefecture': 'PrefectureName',\n",
    "    'Municipality': 'CityName',\n",
    "    'DistrictName': 'DistrictName',\n",
    "    'NearestStation': 'NearestStation',\n",
    "    'TimeToNearestStation': 'TimeToNearestStationOriginal',\n",
    "    'MinTimeToNearestStation': 'MinTimeToNearestStation',\n",
    "    'MaxTimeToNearestStation': 'MaxTimeToNearestStation',\n",
    "    'TradePrice': 'TradePriceYen',\n",
    "    'FloorPlan': 'FloorPlan',\n",
    "    'Area': 'SurveyedAreaM2',\n",
    "    'AreaIsGreaterFlag': 'AreaIsGreaterFlag',\n",
    "    'UnitPrice': 'UnitLandPricePerM2Yen',\n",
    "    'PricePerTsubo': 'UnitLandPricePerTsuboYen',\n",
    "    'LandShape': 'LandShape',\n",
    "    'Frontage': 'FrontageM',\n",
    "    'FrontageIsGreaterFlag': 'FrontageIsGreaterFlag',\n",
    "    'TotalFloorArea': 'TotalFloorAreaM2',\n",
    "    'TotalFloorAreaIsGreaterFlag': 'TotalFloorAreaIsGreaterFlag',\n",
    "    'BuildingYear': 'ConstructionYear',\n",
    "    'PrewarBuilding': 'PrewarBuildingFlag',\n",
    "    'Structure': 'BuildingStructure',\n",
    "    'Use': 'CurrentUsage',\n",
    "    'Purpose': 'FutureUsePurpose',\n",
    "    'Direction': 'FrontageRoadDirection',\n",
    "    'Classification': 'FrontageRoadClassification',\n",
    "    'Breadth': 'FrontageRoadBreadthM',\n",
    "    'CityPlanning': 'CityPlanningCategory',\n",
    "    'CoverageRatio': 'MaxBuildingCoverageRatioPercent',\n",
    "    'FloorAreaRatio': 'MaxFloorAreaRatioPercent',\n",
    "    'Period': 'TransactionPeriod',\n",
    "    'Year': 'TransactionYear',\n",
    "    'Quarter': 'TransactionYearQuarter',\n",
    "    'Renovation': 'RenovationStatus',\n",
    "    'Remarks': 'Notes'\n",
    "}\n",
    "\n",
    "# Rename the columns\n",
    "df.rename(columns=new_column_names, inplace=True)\n",
    "df.to_csv('Japan_dataset.csv', index=False) "
   ]
  },
  {
   "cell_type": "markdown",
   "id": "3555e8f1",
   "metadata": {},
   "source": [
    "Reading the final dataset"
   ]
  },
  {
   "cell_type": "code",
   "execution_count": 2,
   "id": "d46b48f9",
   "metadata": {},
   "outputs": [
    {
     "name": "stderr",
     "output_type": "stream",
     "text": [
      "C:\\Users\\Thekku\\AppData\\Local\\Temp\\ipykernel_27576\\3308995212.py:1: DtypeWarning: Columns (12,26,36) have mixed types. Specify dtype option on import or set low_memory=False.\n",
      "  df=pd.read_csv(\"Japan_dataset.csv\")\n"
     ]
    }
   ],
   "source": [
    "df=pd.read_csv(\"Japan_dataset.csv\")"
   ]
  },
  {
   "cell_type": "markdown",
   "id": "d4fb811d",
   "metadata": {},
   "source": [
    "To display maximum columns"
   ]
  },
  {
   "cell_type": "code",
   "execution_count": null,
   "id": "6df80cea",
   "metadata": {},
   "outputs": [],
   "source": [
    "pd.options.display.max_columns=100\n",
    "pd.options.display.max_rows = 999"
   ]
  },
  {
   "cell_type": "markdown",
   "id": "58d37e9f",
   "metadata": {},
   "source": [
    "First few rows of the dataset"
   ]
  },
  {
   "cell_type": "code",
   "execution_count": null,
   "id": "e5e2b9d7",
   "metadata": {},
   "outputs": [],
   "source": [
    "df.head(10)"
   ]
  },
  {
   "cell_type": "markdown",
   "id": "b7329e58",
   "metadata": {},
   "source": [
    "Last few rows of the dataset"
   ]
  },
  {
   "cell_type": "code",
   "execution_count": null,
   "id": "3cd1598a",
   "metadata": {},
   "outputs": [],
   "source": [
    "df.tail(10)"
   ]
  },
  {
   "cell_type": "markdown",
   "id": "05f9eaab",
   "metadata": {},
   "source": [
    "Sample few rows of the dataset"
   ]
  },
  {
   "cell_type": "code",
   "execution_count": null,
   "id": "3d7e22b7",
   "metadata": {},
   "outputs": [],
   "source": [
    "df.sample(100)"
   ]
  },
  {
   "cell_type": "markdown",
   "id": "5d78d08d",
   "metadata": {},
   "source": [
    "Checking the shape of the dataset"
   ]
  },
  {
   "cell_type": "code",
   "execution_count": null,
   "id": "537e087b",
   "metadata": {},
   "outputs": [],
   "source": [
    "df.shape"
   ]
  },
  {
   "cell_type": "markdown",
   "id": "6ae420d7",
   "metadata": {},
   "source": [
    "There are 3906518 (Three million, nine hundred six thousand, five hundred eighteen.) rows and 38 columns in the dataset"
   ]
  },
  {
   "cell_type": "markdown",
   "id": "5f283866",
   "metadata": {},
   "source": [
    "Checking the datatypes of each column"
   ]
  },
  {
   "cell_type": "code",
   "execution_count": null,
   "id": "b8fd4832",
   "metadata": {},
   "outputs": [],
   "source": [
    "df.info()"
   ]
  },
  {
   "cell_type": "code",
   "execution_count": null,
   "id": "84527092",
   "metadata": {},
   "outputs": [],
   "source": [
    "df.isna().sum()"
   ]
  },
  {
   "cell_type": "code",
   "execution_count": null,
   "id": "a1933f8b",
   "metadata": {},
   "outputs": [],
   "source": [
    "df.isna().sum()/df.shape[0]*100"
   ]
  },
  {
   "cell_type": "code",
   "execution_count": null,
   "id": "0f5c8858",
   "metadata": {},
   "outputs": [],
   "source": [
    "df['RealEstateType'].unique()"
   ]
  },
  {
   "cell_type": "markdown",
   "id": "9a2ee6d1",
   "metadata": {},
   "source": [
    "The dataset can be divided into 5 different datasets based on their Real Estate Type for ease of dealing with data."
   ]
  },
  {
   "cell_type": "code",
   "execution_count": 6,
   "id": "4147fbdf",
   "metadata": {},
   "outputs": [],
   "source": [
    "# Get unique values in the 'RealEstateType' column\n",
    "unique_types = df['RealEstateType'].unique()\n",
    "\n",
    "# Create separate DataFrames for each unique 'RealEstateType'\n",
    "dataframes = {}\n",
    "for real_estate_type in unique_types:\n",
    "    dataframes[real_estate_type] = df[df['RealEstateType'] == real_estate_type]\n",
    "\n",
    "# Save each DataFrame to a different CSV file\n",
    "# key-value pair in the dataframes dictionary.\n",
    "#In this loop, real_estate_type will hold the 'RealEstateType'\n",
    "#df_real_estate will hold the corresponding DataFrame.\n",
    "for real_estate_type, df_real_estate in dataframes.items():\n",
    "    csv_filename = f\"{real_estate_type}.csv\"\n",
    "    df_real_estate.to_csv(csv_filename, index=False)"
   ]
  },
  {
   "cell_type": "markdown",
   "id": "40bb87a0",
   "metadata": {},
   "source": [
    "Further focus is on Pre-owned Condominium,etc. file. (Please look into the file called Pre-owned Condominium,etc..ipynb)"
   ]
  }
 ],
 "metadata": {
  "kernelspec": {
   "display_name": "Python 3 (ipykernel)",
   "language": "python",
   "name": "python3"
  },
  "language_info": {
   "codemirror_mode": {
    "name": "ipython",
    "version": 3
   },
   "file_extension": ".py",
   "mimetype": "text/x-python",
   "name": "python",
   "nbconvert_exporter": "python",
   "pygments_lexer": "ipython3",
   "version": "3.10.13"
  }
 },
 "nbformat": 4,
 "nbformat_minor": 5
}
